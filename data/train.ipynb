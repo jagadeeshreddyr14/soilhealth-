{
 "cells": [
  {
   "cell_type": "code",
   "execution_count": 1,
   "metadata": {},
   "outputs": [
    {
     "ename": "ModuleNotFoundError",
     "evalue": "No module named 'rasterio'",
     "output_type": "error",
     "traceback": [
      "\u001b[0;31m---------------------------------------------------------------------------\u001b[0m",
      "\u001b[0;31mModuleNotFoundError\u001b[0m                       Traceback (most recent call last)",
      "\u001b[0;32m/tmp/ipykernel_4520/416928580.py\u001b[0m in \u001b[0;36m<module>\u001b[0;34m\u001b[0m\n\u001b[1;32m      1\u001b[0m \u001b[0;32mimport\u001b[0m \u001b[0mnumpy\u001b[0m \u001b[0;32mas\u001b[0m \u001b[0mnp\u001b[0m\u001b[0;34m\u001b[0m\u001b[0;34m\u001b[0m\u001b[0m\n\u001b[1;32m      2\u001b[0m \u001b[0;32mimport\u001b[0m \u001b[0mpandas\u001b[0m \u001b[0;32mas\u001b[0m \u001b[0mpd\u001b[0m\u001b[0;34m\u001b[0m\u001b[0;34m\u001b[0m\u001b[0m\n\u001b[0;32m----> 3\u001b[0;31m \u001b[0;32mimport\u001b[0m \u001b[0mrasterio\u001b[0m \u001b[0;32mas\u001b[0m \u001b[0mrs\u001b[0m\u001b[0;34m\u001b[0m\u001b[0;34m\u001b[0m\u001b[0m\n\u001b[0m\u001b[1;32m      4\u001b[0m \u001b[0;32mimport\u001b[0m \u001b[0mgeopandas\u001b[0m \u001b[0;32mas\u001b[0m \u001b[0mgpd\u001b[0m\u001b[0;34m\u001b[0m\u001b[0;34m\u001b[0m\u001b[0m\n\u001b[1;32m      5\u001b[0m \u001b[0;32mimport\u001b[0m \u001b[0mos\u001b[0m\u001b[0;34m\u001b[0m\u001b[0;34m\u001b[0m\u001b[0m\n",
      "\u001b[0;31mModuleNotFoundError\u001b[0m: No module named 'rasterio'"
     ]
    }
   ],
   "source": [
    "import numpy as np\n",
    "import pandas as pd\n",
    "import rasterio as rs\n",
    "import geopandas as gpd\n",
    "import os\n",
    "from rasterio.mask import mask\n",
    "\n",
    "from sklearn.model_selection import train_test_split\n",
    "from sklearn.preprocessing import StandardScaler\n",
    "from sklearn.metrics import mean_absolute_error, mean_squared_error\n",
    "\n",
    "from sklearn.svm import SVR\n",
    "from sklearn.neighbors import KNeighborsRegressor\n",
    "from sklearn.ensemble import RandomForestRegressor\n",
    "from sklearn.model_selection import cross_val_score\n",
    "import pickle\n",
    "\n",
    "import matplotlib.pyplot as plt\n",
    "\n",
    "import warnings\n",
    "warnings.filterwarnings(\"ignore\")\n",
    "from xgboost import XGBRegressor\n",
    "\n"
   ]
  },
  {
   "cell_type": "code",
   "execution_count": null,
   "metadata": {},
   "outputs": [],
   "source": [
    "df = pd.read_csv('../data/training/training.csv')"
   ]
  },
  {
   "cell_type": "code",
   "execution_count": 3,
   "metadata": {},
   "outputs": [],
   "source": [
    "def cal_error(dff, y_test, predictions):\n",
    "    mae = mean_absolute_error(y_test, predictions)\n",
    "    rmse = mean_squared_error(y_test, predictions,squared=False)\n",
    "    var_pred = dff['pred'].var()\n",
    "    corr = dff['ytest'].corr(dff['pred']) \n",
    "    bias = (dff['pred']-dff['ytest']).sum()/(dff['ytest'].sum()) *100\n",
    "    \n",
    "    return mae, rmse, var_pred, corr\n",
    "\n",
    "def plot(dff, y_test):\n",
    "    m, b = np. polyfit(dff['ytest'] , dff['pred'],1 )\n",
    "    plt.subplots(1,1)\n",
    "    plt.scatter(dff['ytest'],dff['pred'])\n",
    "    # plt.title(i)\n",
    "    plt.plot(y_test, m*y_test + b)\n",
    "    plt.xlabel('Field')\n",
    "    plt.ylabel('Predicted')\n",
    "\n",
    "def gen_predictions(model, mytarget):\n",
    "    X_train, X_test, y_train, y_test = train_test_split( input,mytarget, test_size=0.30, random_state=42)\n",
    "    X_train = scaler.fit_transform(X_train)\n",
    "    X_test = scaler.transform(X_test)\n",
    "    model.fit(X_train, y_train)\n",
    "    predictions = model.predict(X_test)\n",
    "    predictions = predictions.reshape(len(predictions),)\n",
    "    dff = pd.concat([y_test.reset_index(drop=True),pd.DataFrame(predictions).rename(columns={0:'pred'})],axis=1)\n",
    "    dff.columns = ['ytest','pred']\n",
    "\n",
    "    return dff, y_test, predictions"
   ]
  },
  {
   "cell_type": "code",
   "execution_count": 10,
   "metadata": {},
   "outputs": [],
   "source": [
    "# input\n",
    "N_model = RandomForestRegressor(criterion='squared_error', max_depth = 8, max_features = 4, oob_score=True,)\n",
    "pH_model = RandomForestRegressor(criterion='squared_error', max_depth = 8, max_features = 3, oob_score=True,)#KNeighborsRegressor(n_neighbors=4)\n",
    "K_model = RandomForestRegressor(criterion='squared_error', max_depth = 9, max_features = 3, oob_score=True,)\n",
    "P_model = RandomForestRegressor(criterion='squared_error', max_depth = 9, max_features = 4, oob_score=True,)#SVR(kernel='rbf', C=20,  )\n",
    "OC_model = SVR(kernel='rbf', C=5,  )\n",
    "\n",
    "scaler = StandardScaler()\n",
    "\n",
    "models = [ P_model, N_model, OC_model, K_model, pH_model]\n",
    "dropna_options = ['P', 'N', 'OC', 'K', 'pH']"
   ]
  },
  {
   "cell_type": "code",
   "execution_count": null,
   "metadata": {},
   "outputs": [],
   "source": [
    "for model, dropna_opt in zip( models, dropna_options):\n",
    "    \n",
    "    df_ = df.dropna(subset= [dropna_opt])\n",
    "    scaler = StandardScaler()\n",
    "    input = df_[['B8', 'B4', 'B5', 'B11','B9', 'B1', 'SR_n2', 'SR_N', 'TBVI1', 'NDWI', 'NDVI_G']]\n",
    "    target = df_[[dropna_opt]]\n",
    "\n",
    "    X_train, X_test, y_train, y_test = train_test_split( input,target, test_size=0.30)\n",
    "    scaler.fit(X_train)\n",
    "    X_train = scaler.transform(X_train)\n",
    "    X_test = scaler.transform(X_test)\n",
    "    model.fit(X_train, y_train)\n",
    "    predictions = model.predict(X_test)\n",
    "    predictions = predictions.reshape(len(predictions),)\n",
    "    dff = pd.concat([y_test.reset_index(drop=True),pd.DataFrame(predictions).rename(columns={0:'pred'})],axis=1)\n",
    "    dff.columns = ['ytest','pred']\n",
    "\n",
    "    # dff, y_test, predictions= gen_predictions(model, target)\n",
    "    mae, rmse, var_pred, corr = cal_error(dff, y_test, predictions)\n",
    "    \n",
    "    print(\"Target:\", target.columns.values[0], \"=> mae\", mae, \" rmse\", rmse, \"var_pred\", var_pred, \"corr\", corr)\n",
    "    # plot(dff, y_test)\n",
    "    scores = cross_val_score(model, input,target, cv=3, scoring='neg_root_mean_squared_error')\n",
    "    print(scores)\n",
    "    with open(f\"../data/models/{dropna_opt}.pkl\", 'wb') as src:\n",
    "        pickle.dump(model, src)\n",
    "    with open(f\"../data/models/{dropna_opt}_slr.pkl\",\"wb\") as src:\n",
    "        pickle.dump(scaler, src)\n",
    "        print(dropna_opt)\n",
    "\n"
   ]
  },
  {
   "cell_type": "code",
   "execution_count": null,
   "metadata": {},
   "outputs": [],
   "source": [
    "predictions"
   ]
  }
 ],
 "metadata": {
  "interpreter": {
   "hash": "09b157bfd758381aa6ce506766690da6e3ca6ef929b6cf201748d82d164e2d5f"
  },
  "kernelspec": {
   "display_name": "Python 3 (ipykernel)",
   "language": "python",
   "name": "python3"
  },
  "language_info": {
   "codemirror_mode": {
    "name": "ipython",
    "version": 3
   },
   "file_extension": ".py",
   "mimetype": "text/x-python",
   "name": "python",
   "nbconvert_exporter": "python",
   "pygments_lexer": "ipython3",
   "version": "3.9.7"
  }
 },
 "nbformat": 4,
 "nbformat_minor": 2
}
